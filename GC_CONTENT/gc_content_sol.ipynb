{
 "cells": [
  {
   "cell_type": "code",
   "execution_count": 5,
   "id": "838ad1fd",
   "metadata": {},
   "outputs": [],
   "source": [
    "# Enter your file name or path to your file here\n",
    "file = input(\"Enter your file: \")"
   ]
  },
  {
   "cell_type": "code",
   "execution_count": 6,
   "id": "a25c2da5",
   "metadata": {},
   "outputs": [],
   "source": [
    "with open(file) as gcc:\n",
    "    lines = list(gcc) # convert the file to a list of \n",
    "    fastas=[] # nested list with each sublist containing a FASTA file\n",
    "    for line in lines: #treads through each line\n",
    "        if line.startswith(\">\"): #checks for headers and starts a new list \n",
    "            fastas.append([ line.strip().strip(\">\"), \"\" ])\n",
    "        else: #keeps appending non header (sequence) lines to the second element of the list, until it encounters a header\n",
    "            fastas[-1][1] += line.strip()"
   ]
  },
  {
   "cell_type": "code",
   "execution_count": 7,
   "id": "c5b23f76",
   "metadata": {},
   "outputs": [],
   "source": [
    "# returns the gc percentage as a floating point percentage value\n",
    "def gc_content(sequence): # returns a percentage value of gc in sequence\n",
    "    return 100*(sequence.count(\"C\")+sequence.count(\"G\"))/(sequence.count(\"A\")+sequence.count(\"T\")+sequence.count(\"C\")+sequence.count(\"G\"))"
   ]
  },
  {
   "cell_type": "code",
   "execution_count": null,
   "id": "10c3daae",
   "metadata": {},
   "outputs": [],
   "source": [
    "# Time to rank our sequences\n",
    "max_header=\"\" #dummy string\n",
    "max_content=0.0 #initialise as a float\n",
    "for header,seq in fastas: #iterate till it finds the highest gc content\n",
    "        gc= gc_content(seq)\n",
    "        if gc > max_content:\n",
    "            max_content = gc\n",
    "            max_header = header\n",
    "print(max_header+\"\\n\"+f\"{max_content:.4f}\") "
   ]
  }
 ],
 "metadata": {
  "kernelspec": {
   "display_name": "base",
   "language": "python",
   "name": "python3"
  },
  "language_info": {
   "codemirror_mode": {
    "name": "ipython",
    "version": 3
   },
   "file_extension": ".py",
   "mimetype": "text/x-python",
   "name": "python",
   "nbconvert_exporter": "python",
   "pygments_lexer": "ipython3",
   "version": "3.11.5"
  }
 },
 "nbformat": 4,
 "nbformat_minor": 5
}
